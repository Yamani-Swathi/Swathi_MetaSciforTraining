{
  "nbformat": 4,
  "nbformat_minor": 0,
  "metadata": {
    "colab": {
      "provenance": [],
      "authorship_tag": "ABX9TyNKs6xVZZ7SpkdVnVJewJrC",
      "include_colab_link": true
    },
    "kernelspec": {
      "name": "python3",
      "display_name": "Python 3"
    },
    "language_info": {
      "name": "python"
    }
  },
  "cells": [
    {
      "cell_type": "markdown",
      "metadata": {
        "id": "view-in-github",
        "colab_type": "text"
      },
      "source": [
        "<a href=\"https://colab.research.google.com/github/Yamani-Swathi/Swathi_MetaSciforTraining/blob/main/Python_Asg_1.ipynb\" target=\"_parent\"><img src=\"https://colab.research.google.com/assets/colab-badge.svg\" alt=\"Open In Colab\"/></a>"
      ]
    },
    {
      "cell_type": "code",
      "execution_count": 1,
      "metadata": {
        "colab": {
          "base_uri": "https://localhost:8080/"
        },
        "id": "wGRvc6jNyUN_",
        "outputId": "53bd2d7e-58be-4171-b0d1-1f926c4c46c3"
      },
      "outputs": [
        {
          "output_type": "stream",
          "name": "stdout",
          "text": [
            "hello\n"
          ]
        }
      ],
      "source": [
        "print (\"hello\")"
      ]
    },
    {
      "cell_type": "code",
      "source": [
        "x = 10\n",
        "Y = \"python\"\n",
        "\n",
        "print(x, type(x))\n",
        "print(Y, type(Y))"
      ],
      "metadata": {
        "colab": {
          "base_uri": "https://localhost:8080/"
        },
        "id": "JnGVy3iC43e6",
        "outputId": "1267b4f1-ce64-4439-f24b-0aee0835c33b"
      },
      "execution_count": 3,
      "outputs": [
        {
          "output_type": "stream",
          "name": "stdout",
          "text": [
            "10 <class 'int'>\n",
            "python <class 'str'>\n"
          ]
        }
      ]
    },
    {
      "cell_type": "code",
      "source": [
        "numbers = [1, 2, 3, 4, 5]\n",
        "total = sum(numbers)\n",
        "average = total / len(numbers)\n",
        "\n",
        "print(total)\n",
        "print(average)"
      ],
      "metadata": {
        "colab": {
          "base_uri": "https://localhost:8080/"
        },
        "id": "FcYMCaSy652u",
        "outputId": "9424fe11-b70c-45d8-885b-65aabe46dedb"
      },
      "execution_count": 9,
      "outputs": [
        {
          "output_type": "stream",
          "name": "stdout",
          "text": [
            "15\n",
            "3.0\n"
          ]
        }
      ]
    },
    {
      "cell_type": "code",
      "source": [
        "a = int(input(\"Enter first number: \"))\n",
        "b = int(input(\"Enter second number: \"))\n",
        "\n",
        "print(\"Sum\", a + b)\n",
        "print(\"Difference\", a - b)\n",
        "print(\"Product\", a * b)\n",
        "print(\"Quotient\", a / b)\n"
      ],
      "metadata": {
        "colab": {
          "base_uri": "https://localhost:8080/"
        },
        "id": "qOg5mqHN8ml8",
        "outputId": "ae3a60da-b8a5-4ea5-99e5-7603e1278a7d"
      },
      "execution_count": 15,
      "outputs": [
        {
          "output_type": "stream",
          "name": "stdout",
          "text": [
            "Enter first number: 20\n",
            "Enter second number: 5\n",
            "Sum 25\n",
            "Difference 15\n",
            "Product 100\n",
            "Quotient 4.0\n"
          ]
        }
      ]
    },
    {
      "cell_type": "code",
      "source": [
        "name = \"Alice\"\n",
        "age = 25\n",
        "\n",
        "print(\"%s is %d years old.\" % (name, age))\n",
        "print(\"{} is {} years old.\".format(name, age))\n"
      ],
      "metadata": {
        "colab": {
          "base_uri": "https://localhost:8080/"
        },
        "id": "Go8ZAXZW_KKo",
        "outputId": "6d4f4407-d1c7-4ca8-872c-9585f1967f9a"
      },
      "execution_count": 18,
      "outputs": [
        {
          "output_type": "stream",
          "name": "stdout",
          "text": [
            "Alice is 25 years old.\n",
            "Alice is 25 years old.\n"
          ]
        }
      ]
    },
    {
      "cell_type": "code",
      "source": [
        "a = input(\"Enter a string \")\n",
        "\n",
        "print(a.upper(), a.lower())\n",
        "\n",
        "vowels = \"aeiouAEIOU\"\n",
        "count = sum(1 for char in a if char in vowels)\n",
        "print(\"Vowel count\", count)\n",
        "\n",
        "print(\"Reversed\", a[::-1])"
      ],
      "metadata": {
        "colab": {
          "base_uri": "https://localhost:8080/"
        },
        "id": "lKrGyKctAeuv",
        "outputId": "7929898d-5924-4215-e62a-4ec4279dfbfc"
      },
      "execution_count": 19,
      "outputs": [
        {
          "output_type": "stream",
          "name": "stdout",
          "text": [
            "Enter a string SwaThi\n",
            "SWATHI swathi\n",
            "Vowel count 2\n",
            "Reversed ihTawS\n"
          ]
        }
      ]
    },
    {
      "cell_type": "code",
      "source": [
        "num = int(input(\"Enter a number: \"))\n",
        "\n",
        "if num % 2 == 0:\n",
        "    print(\"Even\")\n",
        "else:\n",
        "    print(\"Odd\")\n"
      ],
      "metadata": {
        "colab": {
          "base_uri": "https://localhost:8080/"
        },
        "id": "a8Bcq4_hBVm0",
        "outputId": "469a9715-ef11-4b7d-f5f4-fda28cae06ca"
      },
      "execution_count": 21,
      "outputs": [
        {
          "output_type": "stream",
          "name": "stdout",
          "text": [
            "Enter a number: 18\n",
            "Even\n"
          ]
        }
      ]
    },
    {
      "cell_type": "code",
      "source": [
        "for i in range(2,51):\n",
        "    for j in range(2,51):\n",
        "        if i%j == 0:\n",
        "            break\n",
        "    if i == j:\n",
        "        print(i,end=\",\")"
      ],
      "metadata": {
        "colab": {
          "base_uri": "https://localhost:8080/"
        },
        "id": "TqkTH14DBmYi",
        "outputId": "dd0ee716-06a4-49cc-8942-7a2df31bb725"
      },
      "execution_count": 22,
      "outputs": [
        {
          "output_type": "stream",
          "name": "stdout",
          "text": [
            "2,3,5,7,11,13,17,19,23,29,31,37,41,43,47,"
          ]
        }
      ]
    },
    {
      "cell_type": "code",
      "source": [
        "def factorial(n):\n",
        "    if n == 0 or n == 1:\n",
        "        return 1\n",
        "    return n * factorial(n - 1)\n",
        "\n",
        "n = int(input(\"Enter a number: \"))\n",
        "print(\"Factorial\", factorial(n))"
      ],
      "metadata": {
        "colab": {
          "base_uri": "https://localhost:8080/"
        },
        "id": "KVHXbvV_DYxL",
        "outputId": "7d2ab9e4-2560-4ba4-8752-ab8e6138aa7b"
      },
      "execution_count": 26,
      "outputs": [
        {
          "output_type": "stream",
          "name": "stdout",
          "text": [
            "Enter a number: 4\n",
            "Factorial 24\n"
          ]
        }
      ]
    },
    {
      "cell_type": "code",
      "source": [
        "class Car:\n",
        "    def __init__(self, brand, model, year):\n",
        "        self.brand = brand\n",
        "        self.model = model\n",
        "        self.year = year\n",
        "\n",
        "    def display_info(self):\n",
        "        print(f\"Car: {self.brand} {self.model}, Year: {self.year}\")\n",
        "\n",
        "car1 = Car(\"Toyota\", \"Corolla\", 2022)\n",
        "car1.display_info()\n"
      ],
      "metadata": {
        "colab": {
          "base_uri": "https://localhost:8080/"
        },
        "id": "syiOFjjuEFlm",
        "outputId": "1e7915d6-1eb7-4a7e-ff49-2407ac6902ca"
      },
      "execution_count": 27,
      "outputs": [
        {
          "output_type": "stream",
          "name": "stdout",
          "text": [
            "Car: Toyota Corolla, Year: 2022\n"
          ]
        }
      ]
    },
    {
      "cell_type": "code",
      "source": [
        "students = {\"alex\": 85, \"sam\": 92, \"honey\": 78}\n",
        "\n",
        "for name, score in students.items():\n",
        "    print(name, \":\", score)\n",
        "\n",
        "highest = max(students.values())\n",
        "print(\"Highest score:\", highest)\n"
      ],
      "metadata": {
        "colab": {
          "base_uri": "https://localhost:8080/"
        },
        "id": "fu3-zeShExeS",
        "outputId": "01ac1f78-69bf-401b-ece1-37893c5dfc54"
      },
      "execution_count": 28,
      "outputs": [
        {
          "output_type": "stream",
          "name": "stdout",
          "text": [
            "alex : 85\n",
            "sam : 92\n",
            "honey : 78\n",
            "Highest score: 92\n"
          ]
        }
      ]
    },
    {
      "cell_type": "code",
      "source": [
        "import math\n",
        "\n",
        "n = int(input(\"Enter a number: \"))\n",
        "\n",
        "print(\"Square root:\", math.sqrt(n))\n",
        "print(\"Factorial:\", math.factorial(n))"
      ],
      "metadata": {
        "colab": {
          "base_uri": "https://localhost:8080/"
        },
        "id": "rr-7Ed3PFXoJ",
        "outputId": "a6677b28-36b2-431a-d659-1916fb9c2582"
      },
      "execution_count": 29,
      "outputs": [
        {
          "output_type": "stream",
          "name": "stdout",
          "text": [
            "Enter a number: 5\n",
            "Square root: 2.23606797749979\n",
            "Factorial: 120\n"
          ]
        }
      ]
    },
    {
      "cell_type": "code",
      "source": [
        "name = input(\"Enter your name: \")\n",
        "age = input(\"Enter your age: \")\n",
        "\n",
        "print(f\"Hello {name}, you are {age} years old!\")"
      ],
      "metadata": {
        "colab": {
          "base_uri": "https://localhost:8080/"
        },
        "id": "NaH-_nDFFp6r",
        "outputId": "999cd084-26c9-44d6-b842-d5ac9e26ae7c"
      },
      "execution_count": 30,
      "outputs": [
        {
          "output_type": "stream",
          "name": "stdout",
          "text": [
            "Enter your name: swathi\n",
            "Enter your age: 21\n",
            "Hello swathi, you are 21 years old!\n"
          ]
        }
      ]
    }
  ]
}