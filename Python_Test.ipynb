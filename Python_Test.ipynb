{
  "nbformat": 4,
  "nbformat_minor": 0,
  "metadata": {
    "colab": {
      "provenance": [],
      "authorship_tag": "ABX9TyO3nRDXmuuJSw0kyjtwfOcl",
      "include_colab_link": true
    },
    "kernelspec": {
      "name": "python3",
      "display_name": "Python 3"
    },
    "language_info": {
      "name": "python"
    }
  },
  "cells": [
    {
      "cell_type": "markdown",
      "metadata": {
        "id": "view-in-github",
        "colab_type": "text"
      },
      "source": [
        "<a href=\"https://colab.research.google.com/github/Yamani-Swathi/Swathi_MetaSciforTraining/blob/main/Python_Test.ipynb\" target=\"_parent\"><img src=\"https://colab.research.google.com/assets/colab-badge.svg\" alt=\"Open In Colab\"/></a>"
      ]
    },
    {
      "cell_type": "code",
      "execution_count": 1,
      "metadata": {
        "colab": {
          "base_uri": "https://localhost:8080/"
        },
        "id": "rEMBo1pJxyIW",
        "outputId": "0bfcaf5b-a7e6-4311-8d82-29b71edd24e9"
      },
      "outputs": [
        {
          "output_type": "stream",
          "name": "stdout",
          "text": [
            "Enter a number: 342\n",
            "Even\n"
          ]
        }
      ],
      "source": [
        "num = int(input(\"Enter a number: \"))\n",
        "\n",
        "if num % 2 == 0:\n",
        "    print(\"Even\")\n",
        "else:\n",
        "    print(\"Odd\")\n"
      ]
    },
    {
      "cell_type": "code",
      "source": [
        "def reverse_string(s):\n",
        "    reversed_s = \"\"\n",
        "    for char in s:\n",
        "        reversed_s = char + reversed_s\n",
        "    return reversed_s\n",
        "\n",
        "print(reverse_string(\"swathi\"))\n"
      ],
      "metadata": {
        "colab": {
          "base_uri": "https://localhost:8080/"
        },
        "id": "-QkiryUs0Qfm",
        "outputId": "30209691-0914-4035-92d3-867f789a0844"
      },
      "execution_count": 3,
      "outputs": [
        {
          "output_type": "stream",
          "name": "stdout",
          "text": [
            "ihtaws\n"
          ]
        }
      ]
    },
    {
      "cell_type": "code",
      "source": [
        "def find_largest(numbers):\n",
        "    largest = numbers[0]\n",
        "    for num in numbers:\n",
        "        if num > largest:\n",
        "            largest = num\n",
        "    return largest\n",
        "\n",
        "nums = list(map(int, input(\"Enter numbers separated by spaces: \").split()))\n",
        "\n",
        "print(\"Largest number:\", find_largest(nums))\n"
      ],
      "metadata": {
        "colab": {
          "base_uri": "https://localhost:8080/"
        },
        "id": "zCwm-bBP1Cvy",
        "outputId": "7b1e6339-025c-4313-b510-40bfe97e10e3"
      },
      "execution_count": 5,
      "outputs": [
        {
          "output_type": "stream",
          "name": "stdout",
          "text": [
            "Enter numbers separated by spaces: 12 34 65 1 34 23 67 2\n",
            "Largest number: 67\n"
          ]
        }
      ]
    },
    {
      "cell_type": "code",
      "source": [
        "def is_palindrome(s):\n",
        "    s = s.lower()  #\n",
        "    return s == s[::-1]\n",
        "\n",
        "word = input(\"Enter a string: \")\n",
        "if is_palindrome(word):\n",
        "    print(\"It's a palindrome!\")\n",
        "else:\n",
        "    print(\"Not a palindrome!\")\n"
      ],
      "metadata": {
        "colab": {
          "base_uri": "https://localhost:8080/"
        },
        "id": "feKVzTEF1m6W",
        "outputId": "f48489fb-8e3f-4f45-efb2-9eff819fd175"
      },
      "execution_count": 7,
      "outputs": [
        {
          "output_type": "stream",
          "name": "stdout",
          "text": [
            "Enter a string: madam\n",
            "It's a palindrome!\n"
          ]
        }
      ]
    },
    {
      "cell_type": "code",
      "source": [
        "def count_characters(s):\n",
        "    char_count = {}\n",
        "    for char in s:\n",
        "        if char in char_count:\n",
        "            char_count[char] += 1\n",
        "        else:\n",
        "            char_count[char] = 1\n",
        "    return char_count\n",
        "text = input(\"Enter a string: \")\n",
        "char_counts = count_characters(text)\n",
        "\n",
        "for char, count in char_counts.items():\n",
        "    print(f\"'{char}': {count}\")\n"
      ],
      "metadata": {
        "colab": {
          "base_uri": "https://localhost:8080/"
        },
        "id": "6j4D3ySl2D-v",
        "outputId": "a228e624-f880-4301-aa52-d9271ebc05dc"
      },
      "execution_count": 9,
      "outputs": [
        {
          "output_type": "stream",
          "name": "stdout",
          "text": [
            "Enter a string: banana\n",
            "'b': 1\n",
            "'a': 3\n",
            "'n': 2\n"
          ]
        }
      ]
    },
    {
      "cell_type": "markdown",
      "source": [
        "A class is a blueprint or template for creating objects. It defines the structure and behavior\n",
        "\n",
        "An object is an actual instance of a class with real values."
      ],
      "metadata": {
        "id": "86d7--YU2tnb"
      }
    },
    {
      "cell_type": "code",
      "source": [
        "class Car:\n",
        "    def __init__(self, brand):\n",
        "        self.brand = brand\n",
        "\n",
        "    def show(self):\n",
        "        print(\"Car brand:\", self.brand)\n",
        "\n",
        "my_car = Car(\"Toyota\")\n",
        "my_car.show()\n"
      ],
      "metadata": {
        "colab": {
          "base_uri": "https://localhost:8080/"
        },
        "id": "jMZINPmw2xcN",
        "outputId": "17e3e463-40f2-485d-ba6a-4469d99889ff"
      },
      "execution_count": 10,
      "outputs": [
        {
          "output_type": "stream",
          "name": "stdout",
          "text": [
            "Car brand: Toyota\n"
          ]
        }
      ]
    },
    {
      "cell_type": "markdown",
      "source": [
        "Class → Plan\n",
        "\n",
        "Object → Actual thing made from the plan"
      ],
      "metadata": {
        "id": "uV4rRfV928zh"
      }
    },
    {
      "cell_type": "markdown",
      "source": [
        "Inheritance allows us to define a class that inherits all the methods and properties from another class."
      ],
      "metadata": {
        "id": "aKBnnHO33OSw"
      }
    },
    {
      "cell_type": "code",
      "source": [
        "# Parent class\n",
        "class Animal:\n",
        "    def speak(self):\n",
        "        print(\"Animal makes a sound\")\n",
        "\n",
        "# Child class inheriting from Animal\n",
        "class Dog(Animal):\n",
        "    def speak(self):\n",
        "        print(\"Dog barks\")\n",
        "\n",
        "a = Animal()\n",
        "a.speak()\n",
        "\n",
        "d = Dog()\n",
        "d.speak()\n"
      ],
      "metadata": {
        "colab": {
          "base_uri": "https://localhost:8080/"
        },
        "id": "jHLiffTM3oy0",
        "outputId": "33b65eb3-5737-4209-eb1d-4f5296ff0045"
      },
      "execution_count": 11,
      "outputs": [
        {
          "output_type": "stream",
          "name": "stdout",
          "text": [
            "Animal makes a sound\n",
            "Dog barks\n"
          ]
        }
      ]
    },
    {
      "cell_type": "markdown",
      "source": [
        "Method overriding occurs when a child class provides a new implementation for a method that is already defined in its parent class.\n",
        "\n",
        "The child class replaces the parent's method while keeping the same method name.\n",
        "It allows customizing behavior for the child class."
      ],
      "metadata": {
        "id": "FoOBKuL034zP"
      }
    },
    {
      "cell_type": "code",
      "source": [
        "# Parent class\n",
        "class Vehicle:\n",
        "    def fuel_type(self):\n",
        "        print(\"Most vehicles use petrol or diesel\")\n",
        "\n",
        "# Child class overriding the method\n",
        "class ElectricCar(Vehicle):\n",
        "    def fuel_type(self):\n",
        "        print(\"Electric cars use battery power\")\n",
        "\n",
        "v = Vehicle()\n",
        "v.fuel_type()\n",
        "\n",
        "e = ElectricCar()\n",
        "e.fuel_type()\n"
      ],
      "metadata": {
        "colab": {
          "base_uri": "https://localhost:8080/"
        },
        "id": "-HPYebfF43ty",
        "outputId": "fb57393b-362a-4a6d-baaa-a43cafebd3ff"
      },
      "execution_count": 12,
      "outputs": [
        {
          "output_type": "stream",
          "name": "stdout",
          "text": [
            "Most vehicles use petrol or diesel\n",
            "Electric cars use battery power\n"
          ]
        }
      ]
    },
    {
      "cell_type": "markdown",
      "source": [
        "An instance method is associated with an instance of a class and can access and modify both instance and class attributes. It takes self as its first parameter and is called using an object of the class.\n",
        "\n",
        "A class method is associated with the class itself rather than an instance. It takes cls as its first parameter and can modify class attributes but cannot access instance attributes. It is defined using the @classmethod decorator and can be called using both the class and its instances.\n",
        "\n",
        "A static method is an independent method within a class that does not access instance (self) or class (cls) attributes. It is defined using the @staticmethod decorator and is used for general utility functions. Unlike instance and class methods, it cannot modify class or instance data."
      ],
      "metadata": {
        "id": "9oMU1R9d6DxZ"
      }
    },
    {
      "cell_type": "markdown",
      "source": [
        "encapsulation restricts direct access to class attributes, ensuring data security and control. It is implemented using:\n",
        "\n",
        "Public – Accessible anywhere.\n",
        "\n",
        "Protected – Indicated as internal\n",
        "\n",
        "Private – Not directly accessible outside the class."
      ],
      "metadata": {
        "id": "qUKWpwFp6Ex_"
      }
    },
    {
      "cell_type": "code",
      "source": [
        "class BankAccount:\n",
        "    def __init__(self, balance):\n",
        "        self.__balance = balance\n",
        "\n",
        "    def deposit(self, amount):\n",
        "        self.__balance += amount\n",
        "        print(f\"New Balance: {self.__balance}\")\n",
        "\n",
        "    def get_balance(self):\n",
        "        return self.__balance\n",
        "\n",
        "# Creating an object\n",
        "account = BankAccount(1000)\n",
        "account.deposit(500)\n",
        "print(account.get_balance())\n"
      ],
      "metadata": {
        "colab": {
          "base_uri": "https://localhost:8080/"
        },
        "id": "56tUWqEP6e40",
        "outputId": "0571814c-f903-43b2-e4ab-8337ce3f39a6"
      },
      "execution_count": 13,
      "outputs": [
        {
          "output_type": "stream",
          "name": "stdout",
          "text": [
            "New Balance: 1500\n",
            "1500\n"
          ]
        }
      ]
    }
  ]
}